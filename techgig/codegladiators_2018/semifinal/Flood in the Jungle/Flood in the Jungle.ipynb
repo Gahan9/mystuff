{
 "cells": [
  {
   "cell_type": "markdown",
   "metadata": {},
   "source": [
    "## Flood in the Jungle  (100 Marks)\n",
    "\n",
    "A group of monkeys are living in Sunderbans forests. There are N trees in Sunderbans (numbered from 0 to N-1) on which these monkeys live. Every year floods hit the forest of Sunderbans. The monkeys have a tradition of meeting on a tree after the flood.\n",
    "\n",
    "Last night Sunderbans has been hit hard by a sudden flood. The flood was very strong and it has submerged everything except the mighty trees on which the monkeys live.\n",
    "\n",
    "  \n",
    " ![](https://www.techgig.com/files/nicUploads/56714001252294.jpg) ![](https://www.techgig.com/files/nicUploads/791330661186107.jpg)   \n",
    "  \n",
    "\n",
    "All the monkeys now have to meet on some tree. Due to the flood the trees have become weak so jumping **from** them is dangerous. **Whenever a monkey jumps fro m a tree A to a tree B, the tree A gets submerged a little while the tree B remains unaffected.** The monkeys don't know how to swim. So, they move from one tree to another tree by jumping. Every tree has been assigned a 2D - coordinate value. A monkey can only jump between two trees if the euclidean distance between them is less than or equal to **C**. **C** is called the jumping capacity of the monkeys.  \n",
    "\n",
    "  \n",
    "The trees have threshold values. The threshold value of the ith tree is given by ti. It means that no more than ti monkeys can jump off from the ith tree.  \n",
    "You are given the coordinates of the trees, their threshold values, the number of monkeys on the trees, and the jumping capacity of the monkeys. You have to tell the number of the trees on which the **all** monkeys can meet after the flood. The meeting can happen on a tree if all the monkeys can come to this tree.  \n",
    "  \n",
    "  \n",
    "\n",
    "##### Input Format\n",
    "\n",
    "The first line of input contains 2 integers N and C, denoting the number of trees and the jumping capacity of the monkeys.\n",
    "\n",
    "Following N lines contains xi yi mi ti  - the x-coordinate of the ith tree, the y-coordinate of the ith tree, the number of monkeys on the ith tree and the maximum number of monkeys that can jump off from the ith tree.\n",
    "\n",
    "The last line of the input is kept blank.  \n",
    "  \n",
    "  \n",
    "\n",
    "##### Constraints\n",
    "\n",
    "    1 <= N <= 200\n",
    "    \n",
    "    0 <= C <= 100, 000\n",
    "    \n",
    "    -100, 00 <= xi, yi <= 100, 00\n",
    "    \n",
    "    0 <= mi <= 15\n",
    "    \n",
    "    1 <= ti <= 200\n",
    "\n",
    "  \n",
    "  \n",
    "  \n",
    "\n",
    "##### Output Format\n",
    "\n",
    "One line with space separated integers denoting the numbers of the trees on which the meeting can happen. These numbers should be in **ascending order** and should be from 0 to N-1. If there is no tree on which the meeting can happen then print -1.\n",
    "\n",
    "  \n",
    "  \n",
    "\n",
    "##### Sample TestCase 1\n",
    "\n",
    "###### Input\n",
    "\n",
    "    3 100.0\n",
    "    1 10 5 5\n",
    "    5 10 5 1\n",
    "    8 10 5 4\n",
    "\n",
    "###### Output\n",
    "\n",
    "    -1\n",
    "\n",
    "###### Explanation\n",
    "\n",
    "There are 5 monkeys on the 1st tree (0-based indexing) while only 1 can jump off this tree. Similarly, there are 5 monkeys on the 2nd tree but only 4 can jump off. So, there is no tree where all the monkeys from the 1st tree and 2nd tree can meet. Hence, answer is -1.\n",
    "\n",
    "  \n",
    "\n",
    "Note that trees are numbered from 0 to 2.\n",
    "\n",
    "##### Sample TestCase 2\n",
    "\n",
    "###### Input\n",
    "\n",
    "    3 100.0\n",
    "    1 10 5 20\n",
    "    5 10 5 20\n",
    "    8 10 5 20\n",
    "\n",
    "###### Output\n",
    "\n",
    "    0 1 2\n",
    "\n",
    "###### Explanation\n",
    "\n",
    "The meeting can happen on all the trees.\n",
    "\n",
    "\n",
    "\n"
   ]
  },
  {
   "cell_type": "code",
   "execution_count": 50,
   "metadata": {},
   "outputs": [],
   "source": [
    "import math\n",
    "def euclidean_distance(coordinate1, coordinate2):\n",
    "    return math.sqrt((coordinate1[0] - coordinate2[0])**2 + (coordinate1[1] - coordinate2[1])**2)\n",
    "\n",
    "flag = \"test\"\n",
    "if flag == \"test\":\n",
    "    coordinates = {(1, 10): [5, 20], (5, 10): [5, 20], (8, 10): [5, 20]}\n",
    "    total_trees, total_capacity = '3 100.0'.split()\n",
    "    total_trees, total_capacity = int(total_trees), float(total_capacity)\n",
    "    data_set = [[(1, 10), 5, 5], [(5, 10), 5, 1], [(8, 10), 5, 4]]\n",
    "else:\n",
    "    total_trees, total_capacity = input().split()\n",
    "    total_trees, total_capacity = int(total_trees), float(total_capacity)\n",
    "    coordinates = {}\n",
    "    data_set = []\n",
    "    for _ in range(total_trees):\n",
    "        x, y, monkeys, capacity = map(int, input().split())\n",
    "        data_set.append([(x,y), monkeys, capacity])\n",
    "        coordinates[(x, y)] = [monkeys, capacity]"
   ]
  },
  {
   "cell_type": "code",
   "execution_count": 51,
   "metadata": {},
   "outputs": [
    {
     "data": {
      "text/plain": [
       "4.0"
      ]
     },
     "execution_count": 51,
     "metadata": {},
     "output_type": "execute_result"
    }
   ],
   "source": [
    "euclidean_distance(data_set[0][0], data_set[1][0])"
   ]
  },
  {
   "cell_type": "code",
   "execution_count": 63,
   "metadata": {},
   "outputs": [
    {
     "name": "stdout",
     "output_type": "stream",
     "text": [
      "[]\n",
      "-1\n"
     ]
    }
   ],
   "source": [
    "paths = []\n",
    "for i in range(len(data_set)):\n",
    "#     print(i, data_set[i])\n",
    "    p = [i]\n",
    "    for j in range(len(data_set)):\n",
    "        if not i == j:\n",
    "#             print(j, data_set[j])\n",
    "#             print(euclidean_distance(data_set[i][0], data_set[j][0]))\n",
    "            if euclidean_distance(data_set[i][0], data_set[j][0]) < total_capacity:\n",
    "                current_node_monkey, current_node_jump_threshold = data_set[i][1:]\n",
    "                nxt_node_monkey, nxt_node_jump_threshold = data_set[j][1:]\n",
    "                if current_node_monkey <= current_node_jump_threshold and nxt_node_monkey <= nxt_node_jump_threshold:\n",
    "                    p.append(j)\n",
    "    if len(p) == total_trees:\n",
    "        paths.append(p)\n",
    "print(paths)\n",
    "if paths:\n",
    "    print(' '.join(map(str, path)))\n",
    "else:\n",
    "    print(-1)"
   ]
  },
  {
   "cell_type": "code",
   "execution_count": null,
   "metadata": {},
   "outputs": [],
   "source": []
  },
  {
   "cell_type": "code",
   "execution_count": null,
   "metadata": {},
   "outputs": [],
   "source": []
  }
 ],
 "metadata": {
  "kernelspec": {
   "display_name": "Python 3",
   "language": "python",
   "name": "python3"
  },
  "language_info": {
   "codemirror_mode": {
    "name": "ipython",
    "version": 3
   },
   "file_extension": ".py",
   "mimetype": "text/x-python",
   "name": "python",
   "nbconvert_exporter": "python",
   "pygments_lexer": "ipython3",
   "version": "3.6.4"
  }
 },
 "nbformat": 4,
 "nbformat_minor": 2
}
