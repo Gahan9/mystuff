{
 "cells": [
  {
   "cell_type": "markdown",
   "metadata": {},
   "source": [
    "## Flood in the Jungle  (100 Marks)\n",
    "\n",
    "A group of monkeys are living in Sunderbans forests. There are N trees in Sunderbans (numbered from 0 to N-1) on which these monkeys live. Every year floods hit the forest of Sunderbans. The monkeys have a tradition of meeting on a tree after the flood.\n",
    "\n",
    "Last night Sunderbans has been hit hard by a sudden flood. The flood was very strong and it has submerged everything except the mighty trees on which the monkeys live.\n",
    "\n",
    "  \n",
    " ![](https://www.techgig.com/files/nicUploads/56714001252294.jpg) ![](https://www.techgig.com/files/nicUploads/791330661186107.jpg)   \n",
    "  \n",
    "\n",
    "All the monkeys now have to meet on some tree. Due to the flood the trees have become weak so jumping **from** them is dangerous. **Whenever a monkey jumps fro m a tree A to a tree B, the tree A gets submerged a little while the tree B remains unaffected.** The monkeys don't know how to swim. So, they move from one tree to another tree by jumping. Every tree has been assigned a 2D - coordinate value. A monkey can only jump between two trees if the euclidean distance between them is less than or equal to **C**. **C** is called the jumping capacity of the monkeys.  \n",
    "\n",
    "  \n",
    "The trees have threshold values. The threshold value of the ith tree is given by ti. It means that no more than ti monkeys can jump off from the ith tree.  \n",
    "You are given the coordinates of the trees, their threshold values, the number of monkeys on the trees, and the jumping capacity of the monkeys. You have to tell the number of the trees on which the **all** monkeys can meet after the flood. The meeting can happen on a tree if all the monkeys can come to this tree.  \n",
    "  \n",
    "  \n",
    "\n",
    "##### Input Format\n",
    "\n",
    "The first line of input contains 2 integers N and C, denoting the number of trees and the jumping capacity of the monkeys.\n",
    "\n",
    "Following N lines contains xi yi mi ti  - the x-coordinate of the ith tree, the y-coordinate of the ith tree, the number of monkeys on the ith tree and the maximum number of monkeys that can jump off from the ith tree.\n",
    "\n",
    "The last line of the input is kept blank.  \n",
    "  \n",
    "  \n",
    "\n",
    "##### Constraints\n",
    "\n",
    "    1 <= N <= 200\n",
    "    \n",
    "    0 <= C <= 100, 000\n",
    "    \n",
    "    -100, 00 <= xi, yi <= 100, 00\n",
    "    \n",
    "    0 <= mi <= 15\n",
    "    \n",
    "    1 <= ti <= 200\n",
    "\n",
    "  \n",
    "  \n",
    "  \n",
    "\n",
    "##### Output Format\n",
    "\n",
    "One line with space separated integers denoting the numbers of the trees on which the meeting can happen. These numbers should be in **ascending order** and should be from 0 to N-1. If there is no tree on which the meeting can happen then print -1.\n",
    "\n",
    "  \n",
    "  \n",
    "\n",
    "##### Sample TestCase 1\n",
    "\n",
    "###### Input\n",
    "\n",
    "    3 100.0\n",
    "    1 10 5 5\n",
    "    5 10 5 1\n",
    "    8 10 5 4\n",
    "\n",
    "###### Output\n",
    "\n",
    "    -1\n",
    "\n",
    "###### Explanation\n",
    "\n",
    "There are 5 monkeys on the 1st tree (0-based indexing) while only 1 can jump off this tree. Similarly, there are 5 monkeys on the 2nd tree but only 4 can jump off. So, there is no tree where all the monkeys from the 1st tree and 2nd tree can meet. Hence, answer is -1.\n",
    "\n",
    "  \n",
    "\n",
    "Note that trees are numbered from 0 to 2.\n",
    "\n",
    "##### Sample TestCase 2\n",
    "\n",
    "###### Input\n",
    "\n",
    "    3 100.0\n",
    "    1 10 5 20\n",
    "    5 10 5 20\n",
    "    8 10 5 20\n",
    "\n",
    "###### Output\n",
    "\n",
    "    0 1 2\n",
    "\n",
    "###### Explanation\n",
    "\n",
    "The meeting can happen on all the trees.\n",
    "\n",
    "\n",
    "\n"
   ]
  },
  {
   "cell_type": "code",
   "execution_count": 3,
   "metadata": {},
   "outputs": [
    {
     "name": "stdout",
     "output_type": "stream",
     "text": [
      "\n"
     ]
    },
    {
     "ename": "ValueError",
     "evalue": "not enough values to unpack (expected 2, got 0)",
     "output_type": "error",
     "traceback": [
      "\u001b[1;31m---------------------------------------------------------------------------\u001b[0m",
      "\u001b[1;31mValueError\u001b[0m                                Traceback (most recent call last)",
      "\u001b[1;32m<ipython-input-3-2d1db4f7231a>\u001b[0m in \u001b[0;36m<module>\u001b[1;34m()\u001b[0m\n\u001b[0;32m      4\u001b[0m     \u001b[1;32mreturn\u001b[0m \u001b[0mmath\u001b[0m\u001b[1;33m.\u001b[0m\u001b[0msqrt\u001b[0m\u001b[1;33m(\u001b[0m\u001b[1;33m(\u001b[0m\u001b[0mcoordinate1\u001b[0m\u001b[1;33m[\u001b[0m\u001b[1;36m0\u001b[0m\u001b[1;33m]\u001b[0m \u001b[1;33m-\u001b[0m \u001b[0mcoordinate2\u001b[0m\u001b[1;33m[\u001b[0m\u001b[1;36m0\u001b[0m\u001b[1;33m]\u001b[0m\u001b[1;33m)\u001b[0m\u001b[1;33m**\u001b[0m\u001b[1;36m2\u001b[0m \u001b[1;33m+\u001b[0m \u001b[1;33m(\u001b[0m\u001b[0mcoordinate1\u001b[0m\u001b[1;33m[\u001b[0m\u001b[1;36m1\u001b[0m\u001b[1;33m]\u001b[0m \u001b[1;33m-\u001b[0m \u001b[0mcoordinate2\u001b[0m\u001b[1;33m[\u001b[0m\u001b[1;36m1\u001b[0m\u001b[1;33m]\u001b[0m\u001b[1;33m)\u001b[0m\u001b[1;33m**\u001b[0m\u001b[1;36m2\u001b[0m\u001b[1;33m)\u001b[0m\u001b[1;33m\u001b[0m\u001b[0m\n\u001b[0;32m      5\u001b[0m \u001b[1;33m\u001b[0m\u001b[0m\n\u001b[1;32m----> 6\u001b[1;33m \u001b[0mtotal_trees\u001b[0m\u001b[1;33m,\u001b[0m \u001b[0mtotal_capacity\u001b[0m \u001b[1;33m=\u001b[0m \u001b[0minput\u001b[0m\u001b[1;33m(\u001b[0m\u001b[1;33m)\u001b[0m\u001b[1;33m.\u001b[0m\u001b[0msplit\u001b[0m\u001b[1;33m(\u001b[0m\u001b[1;33m)\u001b[0m\u001b[1;33m\u001b[0m\u001b[0m\n\u001b[0m\u001b[0;32m      7\u001b[0m \u001b[0mtotal_trees\u001b[0m\u001b[1;33m,\u001b[0m \u001b[0mtotal_capacity\u001b[0m \u001b[1;33m=\u001b[0m \u001b[0mint\u001b[0m\u001b[1;33m(\u001b[0m\u001b[0mtotal_trees\u001b[0m\u001b[1;33m)\u001b[0m\u001b[1;33m,\u001b[0m \u001b[0mfloat\u001b[0m\u001b[1;33m(\u001b[0m\u001b[0mtotal_capacity\u001b[0m\u001b[1;33m)\u001b[0m\u001b[1;33m\u001b[0m\u001b[0m\n\u001b[0;32m      8\u001b[0m \u001b[0mdata_set\u001b[0m \u001b[1;33m=\u001b[0m \u001b[1;33m[\u001b[0m\u001b[1;33m]\u001b[0m\u001b[1;33m\u001b[0m\u001b[0m\n",
      "\u001b[1;31mValueError\u001b[0m: not enough values to unpack (expected 2, got 0)"
     ]
    }
   ],
   "source": [
    "from collections import OrderedDict\n",
    "def euclidean_distance(coordinate1, coordinate2):\n",
    "    import math\n",
    "    return math.sqrt((coordinate1[0] - coordinate2[0])**2 + (coordinate1[1] - coordinate2[1])**2)\n",
    "\n",
    "total_trees, total_capacity = input().split()\n",
    "total_trees, total_capacity = int(total_trees), float(total_capacity)\n",
    "data_set = []\n",
    "tree_coordinates = []\n",
    "for _ in range(total_trees):\n",
    "    x, y, monkeys, capacity = map(int, input().split())\n",
    "    tree_coordinates.append((x,y))\n",
    "    data_set.append([(x,y), monkeys, capacity])\n",
    "    coordinates[(x, y)] = [monkeys, capacity]\n",
    "\n",
    "# total_trees, total_capacity = '3 100.0'.split()\n",
    "# total_trees, total_capacity = int(total_trees), float(total_capacity)\n",
    "# tree_coordinates = [(1, 10), (5, 10), (8, 10)]\n",
    "# data_set = [[(1, 10), 5, 5], [(5, 10), 5, 1], [(8, 10), 5, 4]]\n",
    "# coordinates_graph = OrderedDict({(1, 10): [5, 20], (5, 10): [5, 20], (8, 10): [5, 20]})\n",
    "\n",
    "def find_path(graph, start, end, path=[]):\n",
    "    path = path + [start]\n",
    "    if start == end and euclidean_distance(start, end) <= total_capacity:\n",
    "        return path\n",
    "    for node in graph.keys():\n",
    "        if node not in path:\n",
    "            newpath = find_path(graph, node, end, path)\n",
    "            if newpath: return newpath\n",
    "    return None\n",
    "\n",
    "def main():\n",
    "    for i in coordinates_graph:\n",
    "        for j in coordinates_graph:\n",
    "            if not i == j:\n",
    "                path_result = find_path(coordinates_graph, i, j)\n",
    "                if path_result:\n",
    "                    if len(path_result) == total_trees:\n",
    "                        return ' '.join(map(lambda x: str(tree_coordinates.index(x)), path_result))\n",
    "    return -1\n",
    "\n",
    "print(main())\n",
    "    \n",
    "\n",
    "# paths = []\n",
    "# for i in range(total_trees):\n",
    "#     p = [i]\n",
    "#     for j in range(total_trees):\n",
    "#         if j not in p and data_set[p[-1]] is not data_set[j]:\n",
    "#             print(data_set[p[-1]], data_set[j], sep=\" | \", end=\" | \")\n",
    "#             if euclidean_distance(data_set[p[-1]][0], data_set[j][0]) < total_capacity:\n",
    "#                 prev_node_monkey, prev_node_jump_threshold = data_set[p[-1]][1:]\n",
    "#                 nxt_node_monkey, nxt_node_jump_threshold = data_set[j][1:]\n",
    "#                 if prev_node_monkey <= prev_node_jump_threshold:\n",
    "#                     data_set[p[-1]][-1]\n",
    "#                     p.append(j)\n",
    "#                 elif nxt_node_monkey <= nxt_node_jump_threshold:\n",
    "#                     p.append(j)\n",
    "#             print(p)\n",
    "#     if len(p) == total_trees:\n",
    "#         paths.append(p)\n",
    "# print(paths)\n",
    "# if paths:\n",
    "#     path = paths[0]\n",
    "#     print(' '.join(map(str, path)))\n",
    "# else:\n",
    "#     print(-1)"
   ]
  },
  {
   "cell_type": "code",
   "execution_count": 4,
   "metadata": {},
   "outputs": [
    {
     "ename": "NameError",
     "evalue": "name 'data_set' is not defined",
     "output_type": "error",
     "traceback": [
      "\u001b[1;31m---------------------------------------------------------------------------\u001b[0m",
      "\u001b[1;31mNameError\u001b[0m                                 Traceback (most recent call last)",
      "\u001b[1;32m<ipython-input-4-e9771d991536>\u001b[0m in \u001b[0;36m<module>\u001b[1;34m()\u001b[0m\n\u001b[1;32m----> 1\u001b[1;33m \u001b[0meuclidean_distance\u001b[0m\u001b[1;33m(\u001b[0m\u001b[0mdata_set\u001b[0m\u001b[1;33m[\u001b[0m\u001b[1;36m0\u001b[0m\u001b[1;33m]\u001b[0m\u001b[1;33m[\u001b[0m\u001b[1;36m0\u001b[0m\u001b[1;33m]\u001b[0m\u001b[1;33m,\u001b[0m \u001b[0mdata_set\u001b[0m\u001b[1;33m[\u001b[0m\u001b[1;36m1\u001b[0m\u001b[1;33m]\u001b[0m\u001b[1;33m[\u001b[0m\u001b[1;36m0\u001b[0m\u001b[1;33m]\u001b[0m\u001b[1;33m)\u001b[0m\u001b[1;33m\u001b[0m\u001b[0m\n\u001b[0m",
      "\u001b[1;31mNameError\u001b[0m: name 'data_set' is not defined"
     ]
    }
   ],
   "source": [
    "euclidean_distance(data_set[0][0], data_set[1][0])"
   ]
  },
  {
   "cell_type": "code",
   "execution_count": 5,
   "metadata": {},
   "outputs": [
    {
     "ename": "NameError",
     "evalue": "name 'data_set' is not defined",
     "output_type": "error",
     "traceback": [
      "\u001b[1;31m---------------------------------------------------------------------------\u001b[0m",
      "\u001b[1;31mNameError\u001b[0m                                 Traceback (most recent call last)",
      "\u001b[1;32m<ipython-input-5-067bb687c338>\u001b[0m in \u001b[0;36m<module>\u001b[1;34m()\u001b[0m\n\u001b[0;32m      1\u001b[0m \u001b[0mpaths\u001b[0m \u001b[1;33m=\u001b[0m \u001b[1;33m[\u001b[0m\u001b[1;33m]\u001b[0m\u001b[1;33m\u001b[0m\u001b[0m\n\u001b[1;32m----> 2\u001b[1;33m \u001b[1;32mfor\u001b[0m \u001b[0mi\u001b[0m \u001b[1;32min\u001b[0m \u001b[0mrange\u001b[0m\u001b[1;33m(\u001b[0m\u001b[0mlen\u001b[0m\u001b[1;33m(\u001b[0m\u001b[0mdata_set\u001b[0m\u001b[1;33m)\u001b[0m\u001b[1;33m)\u001b[0m\u001b[1;33m:\u001b[0m\u001b[1;33m\u001b[0m\u001b[0m\n\u001b[0m\u001b[0;32m      3\u001b[0m \u001b[1;31m#     print(i, data_set[i])\u001b[0m\u001b[1;33m\u001b[0m\u001b[1;33m\u001b[0m\u001b[0m\n\u001b[0;32m      4\u001b[0m     \u001b[0mp\u001b[0m \u001b[1;33m=\u001b[0m \u001b[1;33m[\u001b[0m\u001b[0mi\u001b[0m\u001b[1;33m]\u001b[0m\u001b[1;33m\u001b[0m\u001b[0m\n\u001b[0;32m      5\u001b[0m     \u001b[1;32mfor\u001b[0m \u001b[0mj\u001b[0m \u001b[1;32min\u001b[0m \u001b[0mrange\u001b[0m\u001b[1;33m(\u001b[0m\u001b[0mlen\u001b[0m\u001b[1;33m(\u001b[0m\u001b[0mdata_set\u001b[0m\u001b[1;33m)\u001b[0m\u001b[1;33m)\u001b[0m\u001b[1;33m:\u001b[0m\u001b[1;33m\u001b[0m\u001b[0m\n",
      "\u001b[1;31mNameError\u001b[0m: name 'data_set' is not defined"
     ]
    }
   ],
   "source": [
    "paths = []\n",
    "for i in range(len(data_set)):\n",
    "#     print(i, data_set[i])\n",
    "    p = [i]\n",
    "    for j in range(len(data_set)):\n",
    "        if not i is j:\n",
    "#             print(j, data_set[j])\n",
    "#             print(euclidean_distance(data_set[i][0], data_set[j][0]))\n",
    "            if euclidean_distance(data_set[i][0], data_set[j][0]) < total_capacity:\n",
    "                current_node_monkey, current_node_jump_threshold = data_set[i][1:]\n",
    "                nxt_node_monkey, nxt_node_jump_threshold = data_set[j][1:]\n",
    "                if current_node_monkey <= current_node_jump_threshold and nxt_node_monkey <= nxt_node_jump_threshold:\n",
    "                    p.append(j)\n",
    "    if len(p) == total_trees:\n",
    "        paths.append(p)\n",
    "if paths:\n",
    "    print(' '.join(map(str, path)))\n",
    "else:\n",
    "    print(-1)"
   ]
  },
  {
   "cell_type": "code",
   "execution_count": 76,
   "metadata": {},
   "outputs": [
    {
     "name": "stdout",
     "output_type": "stream",
     "text": [
      "-1\n"
     ]
    }
   ],
   "source": [
    "paths = []\n",
    "for i in range(len(data_set)):\n",
    "    p = [i]\n",
    "    for j in range(len(data_set)):\n",
    "        if not i is j:\n",
    "            if euclidean_distance(data_set[i][0], data_set[j][0]) < total_capacity:\n",
    "                current_node_monkey, current_node_jump_threshold = data_set[i][1:]\n",
    "                nxt_node_monkey, nxt_node_jump_threshold = data_set[j][1:]\n",
    "                if current_node_monkey <= current_node_jump_threshold and nxt_node_monkey <= nxt_node_jump_threshold:\n",
    "                    p.append(j)\n",
    "            else:\n",
    "                break\n",
    "    if len(p) == total_trees:\n",
    "        paths.append(p)\n",
    "\n",
    "if paths:\n",
    "    print(' '.join(map(str, path)))\n",
    "else:\n",
    "    print(-1)"
   ]
  },
  {
   "cell_type": "code",
   "execution_count": 73,
   "metadata": {},
   "outputs": [
    {
     "name": "stdout",
     "output_type": "stream",
     "text": [
      "30 ns ± 0.558 ns per loop (mean ± std. dev. of 7 runs, 10000000 loops each)\n"
     ]
    }
   ],
   "source": [
    "%timeit 0 == 1"
   ]
  },
  {
   "cell_type": "code",
   "execution_count": 74,
   "metadata": {},
   "outputs": [
    {
     "name": "stdout",
     "output_type": "stream",
     "text": [
      "22.6 ns ± 0.676 ns per loop (mean ± std. dev. of 7 runs, 10000000 loops each)\n"
     ]
    }
   ],
   "source": [
    "%timeit 0 is 1"
   ]
  },
  {
   "cell_type": "code",
   "execution_count": 77,
   "metadata": {},
   "outputs": [],
   "source": [
    "l=[(2, 1, 3)]\n",
    "l."
   ]
  },
  {
   "cell_type": "code",
   "execution_count": 78,
   "metadata": {},
   "outputs": [
    {
     "data": {
      "text/plain": [
       "[2, 3]"
      ]
     },
     "execution_count": 78,
     "metadata": {},
     "output_type": "execute_result"
    }
   ],
   "source": [
    "list({2: 1, 3: 1})"
   ]
  },
  {
   "cell_type": "code",
   "execution_count": 88,
   "metadata": {},
   "outputs": [],
   "source": [
    "ll = [(3, 1), (5, 1), (5, 1), (6, 1), (7, 1), (7, 1), (9, 1), (9, 1), (9, 1), (6, 2), (2, 4), (4, 5), (1, 9)]\n",
    "st = [3, 5, 5, 6, 7, 7, 9, 9, 9, 6, 2, 4, 1]\n",
    "\n",
    "def get_end_points(zipped_lis):\n",
    "    possible_endpoints = set([i[0] for i in ll] + [sum(i) for i in ll])\n",
    "#     for i in zipped_lis:\n",
    "#         possible_endpoints.add(i[0])\n",
    "#         possible_endpoints.add(sum(i))\n",
    "    return possible_endpoints\n"
   ]
  },
  {
   "cell_type": "code",
   "execution_count": 89,
   "metadata": {},
   "outputs": [
    {
     "name": "stdout",
     "output_type": "stream",
     "text": [
      "3.53 µs ± 18.3 ns per loop (mean ± std. dev. of 7 runs, 100000 loops each)\n"
     ]
    }
   ],
   "source": [
    "%timeit get_end_points(ll)"
   ]
  },
  {
   "cell_type": "code",
   "execution_count": 94,
   "metadata": {},
   "outputs": [],
   "source": [
    "l = [0 for i in range(1000)]"
   ]
  },
  {
   "cell_type": "code",
   "execution_count": 96,
   "metadata": {},
   "outputs": [],
   "source": [
    "l[0] = 1"
   ]
  },
  {
   "cell_type": "code",
   "execution_count": 98,
   "metadata": {},
   "outputs": [
    {
     "data": {
      "text/plain": [
       "1"
      ]
     },
     "execution_count": 98,
     "metadata": {},
     "output_type": "execute_result"
    }
   ],
   "source": [
    "l[0]"
   ]
  },
  {
   "cell_type": "code",
   "execution_count": 105,
   "metadata": {},
   "outputs": [
    {
     "name": "stdout",
     "output_type": "stream",
     "text": [
      "[(1, 2), (4, 4), (1, 4), (6, 2), (4, 4)]\n",
      "[(1, 2, 3), (4, 4, 8), (1, 4, 5), (6, 2, 8), (4, 4, 8)]\n"
     ]
    }
   ],
   "source": [
    "salmon_size = list(map(int, '2 4 4 2 4'.split()))\n",
    "salmon_time = list(map(int, '1 4 1 6 4'.split()))\n",
    "print(list(zip(salmon_time, salmon_size)))\n",
    "print()"
   ]
  },
  {
   "cell_type": "code",
   "execution_count": 101,
   "metadata": {},
   "outputs": [],
   "source": [
    "zip?"
   ]
  },
  {
   "cell_type": "code",
   "execution_count": 1,
   "metadata": {},
   "outputs": [
    {
     "name": "stdout",
     "output_type": "stream",
     "text": [
      "5\n"
     ]
    }
   ],
   "source": [
    "# salmons_ = int(input())\n",
    "# salmon_size = list(map(int, input().split()))\n",
    "# salmon_time = list(map(int, input().split()))\n",
    "salmons_ = int('5')\n",
    "salmon_size = list(map(int, '2 4 4 2 4'.split()))\n",
    "salmon_time = list(map(int, '1 4 1 6 4'.split()))\n",
    "salmon_map = list(zip(salmon_time, salmon_size))\n",
    "salmon_map_mod = list(map(lambda x: (x[0], x[1], sum(x)), list(zip(salmon_time, salmon_size))))\n",
    "salmon_endpoints = set(salmon_time + [sum(i) for i in salmon_map])\n",
    "\n",
    "def generate_dict(zipped_lis, possible_endpoints):\n",
    "    lis = [0 for i in range(1000)]\n",
    "    x = [i for i in range(1000)]\n",
    "    for i in possible_endpoints:\n",
    "        for j in zipped_lis:\n",
    "            if i in range(j[0], j[2]):\n",
    "                if lis[i] is 0:\n",
    "                    lis[i] = (i, 1)\n",
    "                else:\n",
    "                    lis[i] = (i, lis[i][1] + 1)\n",
    "    return [i for i in lis if i != 0]\n",
    "\n",
    "def get_max_salmons():\n",
    "    salmon_count = generate_dict(salmon_map_mod, salmon_endpoints)\n",
    "    salmons_max = []\n",
    "    for first_max in salmon_count:\n",
    "        temp_sum = first_max[1]\n",
    "        remaining_salmon = [i for i in salmon_map_mod if first_max[0] not in range(i[0], i[2])]\n",
    "        if remaining_salmon:\n",
    "            second_max = max(generate_dict(remaining_salmon, salmon_endpoints), key=lambda x: x[1])\n",
    "            temp_sum += second_max[1]\n",
    "        salmons_max.append(temp_sum)\n",
    "    return max(salmons_max)\n",
    "\n",
    "print(get_max_salmons())"
   ]
  },
  {
   "cell_type": "code",
   "execution_count": 6,
   "metadata": {},
   "outputs": [
    {
     "name": "stdout",
     "output_type": "stream",
     "text": [
      "-1\n"
     ]
    }
   ],
   "source": [
    "import math\n",
    "def euclidean_distance(coordinate1, coordinate2):\n",
    "    return math.sqrt((coordinate1[0] - coordinate2[0])**2 + (coordinate1[1] - coordinate2[1])**2)\n",
    "\n",
    "total_trees, total_capacity = '3 100.0'.split()\n",
    "total_trees, total_capacity = int(total_trees), float(total_capacity)\n",
    "data_set = [[(1, 10), 5, 5], [(5, 10), 5, 1], [(8, 10), 5, 4]]\n",
    "\n",
    "paths = []\n",
    "for i in range(len(data_set)):\n",
    "    p = [i]\n",
    "    for j in range(len(data_set)):\n",
    "        if not i is j:\n",
    "            if euclidean_distance(data_set[i][0], data_set[j][0]) < total_capacity:\n",
    "                current_node_monkey, current_node_jump_threshold = data_set[i][1:]\n",
    "                nxt_node_monkey, nxt_node_jump_threshold = data_set[j][1:]\n",
    "                if current_node_monkey <= current_node_jump_threshold and nxt_node_monkey <= nxt_node_jump_threshold:\n",
    "                    p.append(j)\n",
    "            else:\n",
    "                break\n",
    "    if len(p) == total_trees:\n",
    "        paths.append(p)\n",
    "\n",
    "if paths:\n",
    "    print(' '.join(map(str, path)))\n",
    "else:\n",
    "    print(-1)"
   ]
  },
  {
   "cell_type": "code",
   "execution_count": 14,
   "metadata": {},
   "outputs": [
    {
     "name": "stdout",
     "output_type": "stream",
     "text": [
      "[(2, 3), (4, 8), (4, 5), (2, 8), (4, 8)]\n",
      "[(2, 3), (4, 8), (4, 5), (2, 8), (4, 8)]\n"
     ]
    }
   ],
   "source": [
    "def get_sum(a, b):\n",
    "    while b:\n",
    "        a, b = (a ^ b), (a & b) << 1\n",
    "    return a\n",
    "salmon_size = list(map(int, '2 4 4 2 4'.split()))\n",
    "salmon_time = list(map(int, '1 4 1 6 4'.split()))\n",
    "print(list(map(lambda x,y: (x, x+y), salmon_size, salmon_time)))\n",
    "print(list(map(lambda x,y: (x, get_sum(x,y)), salmon_size, salmon_time)))"
   ]
  },
  {
   "cell_type": "code",
   "execution_count": 15,
   "metadata": {},
   "outputs": [
    {
     "name": "stdout",
     "output_type": "stream",
     "text": [
      "1.11 µs ± 10.5 ns per loop (mean ± std. dev. of 7 runs, 1000000 loops each)\n"
     ]
    }
   ],
   "source": [
    "%timeit list(map(lambda x,y: (x, x+y), salmon_size, salmon_time))"
   ]
  },
  {
   "cell_type": "code",
   "execution_count": 16,
   "metadata": {},
   "outputs": [
    {
     "name": "stdout",
     "output_type": "stream",
     "text": [
      "2.64 µs ± 13.1 ns per loop (mean ± std. dev. of 7 runs, 100000 loops each)\n"
     ]
    }
   ],
   "source": [
    "%timeit list(map(lambda x,y: (x, get_sum(x,y)), salmon_size, salmon_time))"
   ]
  },
  {
   "cell_type": "code",
   "execution_count": 18,
   "metadata": {},
   "outputs": [
    {
     "data": {
      "text/plain": [
       "0"
      ]
     },
     "execution_count": 18,
     "metadata": {},
     "output_type": "execute_result"
    }
   ],
   "source": [
    "max({1:22, 2:34, 0:100}, key=lambda x: {1:22, 2:34, 0:100}[x])"
   ]
  },
  {
   "cell_type": "code",
   "execution_count": 19,
   "metadata": {},
   "outputs": [
    {
     "data": {
      "text/plain": [
       "[0, 2, 1]"
      ]
     },
     "execution_count": 19,
     "metadata": {},
     "output_type": "execute_result"
    }
   ],
   "source": [
    "sorted({1:22, 2:34, 0:100}, key=lambda x: {1:22, 2:34, 0:100}[x], reverse=True)"
   ]
  },
  {
   "cell_type": "code",
   "execution_count": 10,
   "metadata": {},
   "outputs": [],
   "source": [
    "from collections import OrderedDict\n",
    "from itertools import permutations\n",
    "\n",
    "d = OrderedDict([((1, 10), [5, 20]), ((5, 10), [5, 20]), ((8, 10), [5, 20])])"
   ]
  },
  {
   "cell_type": "code",
   "execution_count": 16,
   "metadata": {},
   "outputs": [
    {
     "data": {
      "text/plain": [
       "[(1, 10)]"
      ]
     },
     "execution_count": 16,
     "metadata": {},
     "output_type": "execute_result"
    }
   ],
   "source": [
    "list(d.keys())[:1]"
   ]
  },
  {
   "cell_type": "code",
   "execution_count": 23,
   "metadata": {},
   "outputs": [
    {
     "data": {
      "text/plain": [
       "[(1, 10), (5, 10), (8, 10), 0]"
      ]
     },
     "execution_count": 23,
     "metadata": {},
     "output_type": "execute_result"
    }
   ],
   "source": [
    "list(list(permutations(d.keys(), 3))[0]) + [0]"
   ]
  },
  {
   "cell_type": "code",
   "execution_count": 1,
   "metadata": {},
   "outputs": [],
   "source": [
    "def euclidean_distance(coordinate1, coordinate2):\n",
    "    return math.sqrt((coordinate1[0] - coordinate2[0])**2 + (coordinate1[1] - coordinate2[1])**2)"
   ]
  },
  {
   "cell_type": "code",
   "execution_count": 9,
   "metadata": {},
   "outputs": [
    {
     "data": {
      "text/plain": [
       "2.0"
      ]
     },
     "execution_count": 9,
     "metadata": {},
     "output_type": "execute_result"
    }
   ],
   "source": [
    "euclidean_distance((3,10), (5,10))"
   ]
  },
  {
   "cell_type": "code",
   "execution_count": 3,
   "metadata": {},
   "outputs": [],
   "source": [
    "x = {(1, 10): {(3, 10)}, (3, 10): {(1, 10), (3, 10), (5, 10)}, (5, 10): {(1, 10), (3, 10), (5, 10), (7, 10)}, (7, 10): {(5, 10), (7, 10), (1, 10), (3, 10)}}"
   ]
  },
  {
   "cell_type": "code",
   "execution_count": 4,
   "metadata": {},
   "outputs": [
    {
     "data": {
      "text/plain": [
       "{(1, 10): {(3, 10)},\n",
       " (3, 10): {(1, 10), (3, 10), (5, 10)},\n",
       " (5, 10): {(1, 10), (3, 10), (5, 10), (7, 10)},\n",
       " (7, 10): {(1, 10), (3, 10), (5, 10), (7, 10)}}"
      ]
     },
     "execution_count": 4,
     "metadata": {},
     "output_type": "execute_result"
    }
   ],
   "source": [
    "x"
   ]
  },
  {
   "cell_type": "code",
   "execution_count": 9,
   "metadata": {},
   "outputs": [
    {
     "data": {
      "text/plain": [
       "{(5, 10): {(1, 10), (3, 10), (5, 10), (7, 10)},\n",
       " (7, 10): {(1, 10), (3, 10), (5, 10), (7, 10)}}"
      ]
     },
     "execution_count": 9,
     "metadata": {},
     "output_type": "execute_result"
    }
   ],
   "source": [
    "{k: v for k, v in x.items() if len(v) is 4}"
   ]
  },
  {
   "cell_type": "code",
   "execution_count": 11,
   "metadata": {},
   "outputs": [
    {
     "data": {
      "text/plain": [
       "{0}"
      ]
     },
     "execution_count": 11,
     "metadata": {},
     "output_type": "execute_result"
    }
   ],
   "source": [
    "{0 for i in range(5)}"
   ]
  },
  {
   "cell_type": "code",
   "execution_count": 16,
   "metadata": {},
   "outputs": [
    {
     "data": {
      "text/plain": [
       "[(5, 10), (7, 10), (3, 10), (1, 10)]"
      ]
     },
     "execution_count": 16,
     "metadata": {},
     "output_type": "execute_result"
    }
   ],
   "source": [
    "sorted(x, key=lambda i: len(x[i]), reverse=True)"
   ]
  },
  {
   "cell_type": "code",
   "execution_count": null,
   "metadata": {},
   "outputs": [],
   "source": []
  }
 ],
 "metadata": {
  "kernelspec": {
   "display_name": "Python 3",
   "language": "python",
   "name": "python3"
  },
  "language_info": {
   "codemirror_mode": {
    "name": "ipython",
    "version": 3
   },
   "file_extension": ".py",
   "mimetype": "text/x-python",
   "name": "python",
   "nbconvert_exporter": "python",
   "pygments_lexer": "ipython3",
   "version": "3.6.4"
  }
 },
 "nbformat": 4,
 "nbformat_minor": 2
}
